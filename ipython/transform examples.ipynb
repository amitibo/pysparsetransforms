{
 "cells": [
  {
   "cell_type": "code",
   "execution_count": null,
   "metadata": {
    "collapsed": false
   },
   "outputs": [],
   "source": [
    "from __future__ import division\n",
    "%matplotlib inline\n",
    "import matplotlib\n",
    "matplotlib.rcParams['figure.figsize'] = (8.0, 8.0)\n",
    "import mayavi.mlab as mlab\n",
    "import matplotlib.pyplot as plt\n",
    "import numpy as np\n",
    "\n",
    "import sparse_transforms as spt"
   ]
  },
  {
   "cell_type": "markdown",
   "metadata": {},
   "source": [
    "# Initialization"
   ]
  },
  {
   "cell_type": "markdown",
   "metadata": {},
   "source": [
    "## For visualization "
   ]
  },
  {
   "cell_type": "code",
   "execution_count": null,
   "metadata": {
    "collapsed": true
   },
   "outputs": [],
   "source": [
    "def viz3D(grids, V, X_label='X', Y_label='Y', Z_label='Z', title='3D Visualization', interpolation='linear'):\n",
    "\n",
    "    mlab.figure()\n",
    "\n",
    "    X, Y, Z = grids.expanded\n",
    "    src = mlab.pipeline.scalar_field(X, Y, Z, V)\n",
    "    src.spacing = [1, 1, 1]\n",
    "    src.update_image_data = True    \n",
    "    ipw_x = mlab.pipeline.image_plane_widget(src, plane_orientation='x_axes')\n",
    "    ipw_x.ipw.reslice_interpolate = interpolation\n",
    "    ipw_x.ipw.texture_interpolate = False\n",
    "    ipw_y = mlab.pipeline.image_plane_widget(src, plane_orientation='y_axes')\n",
    "    ipw_y.ipw.reslice_interpolate = interpolation\n",
    "    ipw_y.ipw.texture_interpolate = False\n",
    "    ipw_z = mlab.pipeline.image_plane_widget(src, plane_orientation='z_axes')\n",
    "    ipw_z.ipw.reslice_interpolate = interpolation\n",
    "    ipw_z.ipw.texture_interpolate = False\n",
    "    mlab.colorbar()\n",
    "    mlab.outline()\n",
    "    mlab.xlabel(X_label)\n",
    "    mlab.ylabel(Y_label)\n",
    "    mlab.zlabel(Z_label)\n",
    "\n",
    "    limits = []\n",
    "    for grid in (X, Y, Z):\n",
    "        limits += [grid.min()]\n",
    "        limits += [grid.max()]\n",
    "    mlab.axes(ranges=limits)\n",
    "    mlab.title(title)\n",
    "    \n",
    "    mlab.show()"
   ]
  },
  {
   "cell_type": "markdown",
   "metadata": {},
   "source": [
    "## Create the base grids object"
   ]
  },
  {
   "cell_type": "code",
   "execution_count": null,
   "metadata": {
    "collapsed": true
   },
   "outputs": [],
   "source": [
    "Y = np.linspace(0, 10, 50)\n",
    "X = np.linspace(0, 10, 50)\n",
    "Z = np.linspace(0, 10, 50)\n",
    "        \n",
    "grids = spt.Grids(Y, X, Z)"
   ]
  },
  {
   "cell_type": "markdown",
   "metadata": {},
   "source": [
    "## Create a base volume "
   ]
  },
  {
   "cell_type": "code",
   "execution_count": null,
   "metadata": {
    "collapsed": true
   },
   "outputs": [],
   "source": [
    "Y, X, Z = grids.expanded\n",
    "V = np.ones_like(Y)\n",
    "V[Y>8] = 0\n",
    "V[X>8] = 0\n",
    "V[Z>8] = 0\n",
    "V[Y<2] = 0\n",
    "V[X<2] = 0\n",
    "V[Z<2] = 0"
   ]
  },
  {
   "cell_type": "code",
   "execution_count": null,
   "metadata": {
    "collapsed": false
   },
   "outputs": [],
   "source": [
    "viz3D(grids, V)"
   ]
  },
  {
   "cell_type": "markdown",
   "metadata": {},
   "source": [
    "# Transforms "
   ]
  },
  {
   "cell_type": "markdown",
   "metadata": {},
   "source": [
    "## Translation"
   ]
  },
  {
   "cell_type": "code",
   "execution_count": null,
   "metadata": {
    "collapsed": false
   },
   "outputs": [],
   "source": [
    "viz3D(grids.translate((5, 5, 5)), V)"
   ]
  },
  {
   "cell_type": "markdown",
   "metadata": {},
   "source": [
    "## Rotation "
   ]
  },
  {
   "cell_type": "code",
   "execution_count": null,
   "metadata": {
    "collapsed": false
   },
   "outputs": [],
   "source": [
    "Hrot = spt.rotationTransform(grids, rotation=(0, 0, np.pi/4))"
   ]
  },
  {
   "cell_type": "code",
   "execution_count": null,
   "metadata": {
    "collapsed": false
   },
   "outputs": [],
   "source": [
    "Vrot = Hrot * V"
   ]
  },
  {
   "cell_type": "code",
   "execution_count": null,
   "metadata": {
    "collapsed": true
   },
   "outputs": [],
   "source": [
    "viz3D(Hrot.out_grids, Vrot)"
   ]
  },
  {
   "cell_type": "markdown",
   "metadata": {},
   "source": [
    "## Translation + Rotation"
   ]
  },
  {
   "cell_type": "code",
   "execution_count": null,
   "metadata": {
    "collapsed": false
   },
   "outputs": [],
   "source": [
    "#\n",
    "# Create a grids centered at the cube\n",
    "#\n",
    "translated_grids = grids.translate((5, 5, 5))\n",
    "\n",
    "Hrot_trans = spt.rotationTransform(\n",
    "    translated_grids,\n",
    "    rotation=(0, 0, np.pi/4),\n",
    "    out_grids=translated_grids\n",
    ")"
   ]
  },
  {
   "cell_type": "code",
   "execution_count": null,
   "metadata": {
    "collapsed": true
   },
   "outputs": [],
   "source": [
    "Vrot_trans = Hrot_trans * V"
   ]
  },
  {
   "cell_type": "code",
   "execution_count": null,
   "metadata": {
    "collapsed": false
   },
   "outputs": [],
   "source": [
    "#\n",
    "# Visualize in the original grids\n",
    "#\n",
    "viz3D(grids, Vrot_trans)"
   ]
  },
  {
   "cell_type": "markdown",
   "metadata": {},
   "source": [
    "## Integral "
   ]
  },
  {
   "cell_type": "code",
   "execution_count": null,
   "metadata": {
    "collapsed": false
   },
   "outputs": [],
   "source": [
    "Hint = spt.integralTransform(grids, axis=0)\n",
    "Hrot_int = spt.integralTransform(Hrot.out_grids, axis=1)"
   ]
  },
  {
   "cell_type": "code",
   "execution_count": null,
   "metadata": {
    "collapsed": true
   },
   "outputs": [],
   "source": [
    "Iint = Hint * V\n",
    "Irot_int = Hrot_int * Vrot"
   ]
  },
  {
   "cell_type": "code",
   "execution_count": null,
   "metadata": {
    "collapsed": false
   },
   "outputs": [],
   "source": [
    "plt.imshow(Iint)\n",
    "plt.colorbar()"
   ]
  },
  {
   "cell_type": "code",
   "execution_count": null,
   "metadata": {
    "collapsed": false
   },
   "outputs": [],
   "source": [
    "plt.imshow(Irot_int)\n",
    "plt.colorbar()"
   ]
  },
  {
   "cell_type": "markdown",
   "metadata": {},
   "source": [
    "## Cumsum Transform"
   ]
  },
  {
   "cell_type": "code",
   "execution_count": null,
   "metadata": {
    "collapsed": true
   },
   "outputs": [],
   "source": [
    "Hcs = spt.cumsumTransform(grids, axis=0)\n",
    "Hrot_cs = spt.cumsumTransform(Hrot.out_grids, axis=0)"
   ]
  },
  {
   "cell_type": "code",
   "execution_count": null,
   "metadata": {
    "collapsed": true
   },
   "outputs": [],
   "source": [
    "Vcs = Hcs * V\n",
    "Vrot_cs = Hrot_cs * Vrot"
   ]
  },
  {
   "cell_type": "code",
   "execution_count": null,
   "metadata": {
    "collapsed": true
   },
   "outputs": [],
   "source": [
    "viz3D(grids, Vcs)"
   ]
  },
  {
   "cell_type": "code",
   "execution_count": null,
   "metadata": {
    "collapsed": false
   },
   "outputs": [],
   "source": [
    "viz3D(Hrot.out_grids, Vrot_cs)"
   ]
  }
 ],
 "metadata": {
  "kernelspec": {
   "display_name": "Python 2",
   "language": "python",
   "name": "python2"
  },
  "language_info": {
   "codemirror_mode": {
    "name": "ipython",
    "version": 2
   },
   "file_extension": ".py",
   "mimetype": "text/x-python",
   "name": "python",
   "nbconvert_exporter": "python",
   "pygments_lexer": "ipython2",
   "version": "2.7.11"
  }
 },
 "nbformat": 4,
 "nbformat_minor": 0
}
